{
  "nbformat": 4,
  "nbformat_minor": 0,
  "metadata": {
    "colab": {
      "provenance": []
    },
    "kernelspec": {
      "name": "python3",
      "display_name": "Python 3"
    },
    "language_info": {
      "name": "python"
    }
  },
  "cells": [
    {
      "cell_type": "code",
      "source": [
        "pip install dash"
      ],
      "metadata": {
        "id": "E-vFmtESBP76"
      },
      "execution_count": null,
      "outputs": []
    },
    {
      "cell_type": "markdown",
      "source": [
        "a.Use any open-source API to access some data in Jason format and then parse the Jason data"
      ],
      "metadata": {
        "id": "ZVdPjPRTDZ4d"
      }
    },
    {
      "cell_type": "code",
      "source": [
        "import requests\n",
        "from dash import Dash, html, dcc\n",
        "from dash.dependencies import Input, Output\n",
        "\n",
        "# NeoWs API endpoint URL\n",
        "url = \"https://api.nasa.gov/neo/rest/v1/feed\"\n",
        "\n",
        "# API key (replace 'YOUR_API_KEY' with your actual API key)\n",
        "api_key = \"xNm0gIWqBIENxaTxwnDbEPhnb8dN18KPPUNaHhHo\"\n",
        "\n",
        "# Function to fetch NEO data for a given date\n",
        "def fetch_neo_data(date):\n",
        "    params = {\n",
        "        \"start_date\": date,\n",
        "        \"end_date\": date,\n",
        "        \"api_key\": api_key\n",
        "    }\n",
        "    response = requests.get(url, params=params)\n",
        "    if response.status_code == 200:\n",
        "        data = response.json()\n",
        "        if data.get(\"near_earth_objects\"):\n",
        "            neo_date = min(data[\"near_earth_objects\"].keys())\n",
        "            closest_neo = min(data[\"near_earth_objects\"][neo_date], key=lambda x: x[\"close_approach_data\"][0][\"miss_distance\"][\"kilometers\"])\n",
        "            return neo_date, closest_neo\n",
        "        else:\n",
        "            return None, None\n",
        "    else:\n",
        "        return None, None"
      ],
      "metadata": {
        "id": "vrbshIExBsYK"
      },
      "execution_count": 10,
      "outputs": []
    },
    {
      "cell_type": "markdown",
      "source": [
        "b.To display the data you may use python library Dash or some other library."
      ],
      "metadata": {
        "id": "EkI9pLTUDg-W"
      }
    },
    {
      "cell_type": "code",
      "source": [
        "# Create Dash app\n",
        "app = Dash(__name__)\n",
        "\n",
        "# Define app layout\n",
        "app.layout = html.Div([\n",
        "    html.H1(\"NeoWs NEO Information\"),\n",
        "    html.Div([\n",
        "        dcc.Input(\n",
        "            id='input-date',\n",
        "            type='text',\n",
        "            placeholder='Enter Date (YYYY-MM-DD)',\n",
        "            value='2024-04-15'\n",
        "        ),\n",
        "        html.Button('Submit', id='submit-val', n_clicks=0)\n",
        "    ]),\n",
        "    html.Div(id='output-data')\n",
        "])\n",
        "\n",
        "# Define callback to update output data based on input date\n",
        "@app.callback(\n",
        "    Output('output-data', 'children'),\n",
        "    [Input('submit-val', 'n_clicks')],\n",
        "    [Input('input-date', 'value')]\n",
        ")\n",
        "def update_output(n_clicks, input_date):\n",
        "    if n_clicks > 0:\n",
        "        neo_date, closest_neo = fetch_neo_data(input_date)\n",
        "        if neo_date and closest_neo:\n",
        "            return html.Div([\n",
        "                html.Div(\"Closest NEO on \" + neo_date),\n",
        "                html.Div(\"Name: \" + closest_neo[\"name\"]),\n",
        "                html.Div(\"Estimated diameter (meters): \" + str(closest_neo[\"estimated_diameter\"][\"meters\"][\"estimated_diameter_min\"])),\n",
        "                html.Div(\"Relative velocity (km/h): \" + str(closest_neo[\"close_approach_data\"][0][\"relative_velocity\"][\"kilometers_per_hour\"])),\n",
        "                html.Div(\"Miss distance (kilometers): \" + str(closest_neo[\"close_approach_data\"][0][\"miss_distance\"][\"kilometers\"]))\n",
        "            ])\n",
        "        else:\n",
        "            return html.Div(\"No NEO data available for the selected date.\")\n",
        "    else:\n",
        "        return html.Div()\n",
        "\n",
        "if __name__ == '__main__':\n",
        "    app.run_server(debug=True)\n"
      ],
      "metadata": {
        "colab": {
          "base_uri": "https://localhost:8080/",
          "height": 671
        },
        "id": "yR1eeIs2C76x",
        "outputId": "0ace285e-19d5-4edb-f608-1051250b259f"
      },
      "execution_count": 11,
      "outputs": [
        {
          "output_type": "display_data",
          "data": {
            "text/plain": [
              "<IPython.core.display.Javascript object>"
            ],
            "application/javascript": [
              "(async (port, path, width, height, cache, element) => {\n",
              "    if (!google.colab.kernel.accessAllowed && !cache) {\n",
              "      return;\n",
              "    }\n",
              "    element.appendChild(document.createTextNode(''));\n",
              "    const url = await google.colab.kernel.proxyPort(port, {cache});\n",
              "    const iframe = document.createElement('iframe');\n",
              "    iframe.src = new URL(path, url).toString();\n",
              "    iframe.height = height;\n",
              "    iframe.width = width;\n",
              "    iframe.style.border = 0;\n",
              "    iframe.allow = [\n",
              "        'accelerometer',\n",
              "        'autoplay',\n",
              "        'camera',\n",
              "        'clipboard-read',\n",
              "        'clipboard-write',\n",
              "        'gyroscope',\n",
              "        'magnetometer',\n",
              "        'microphone',\n",
              "        'serial',\n",
              "        'usb',\n",
              "        'xr-spatial-tracking',\n",
              "    ].join('; ');\n",
              "    element.appendChild(iframe);\n",
              "  })(8050, \"/\", \"100%\", 650, false, window.element)"
            ]
          },
          "metadata": {}
        }
      ]
    }
  ]
}